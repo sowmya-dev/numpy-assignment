{
  "nbformat": 4,
  "nbformat_minor": 0,
  "metadata": {
    "colab": {
      "name": "numpy assignment.ipynb",
      "provenance": []
    },
    "kernelspec": {
      "name": "python3",
      "display_name": "Python 3"
    }
  },
  "cells": [
    {
      "cell_type": "code",
      "metadata": {
        "id": "d4vSHVUAXRDc"
      },
      "source": [
        "import numpy as np\n",
        "def atv(a,n):\n",
        "  matrix=[a**(n-1-i) for i in range(n)]\n",
        "  return np.column_stack(matrix)"
      ],
      "execution_count": 22,
      "outputs": []
    },
    {
      "cell_type": "code",
      "metadata": {
        "colab": {
          "base_uri": "https://localhost:8080/"
        },
        "id": "O4l2DeQrbKmt",
        "outputId": "a51736c9-9de2-45fd-98ec-83835af1bb63"
      },
      "source": [
        "atv(np.array([1,2,3,4,5,6]),6)"
      ],
      "execution_count": 24,
      "outputs": [
        {
          "output_type": "execute_result",
          "data": {
            "text/plain": [
              "array([[   1,    1,    1,    1,    1,    1],\n",
              "       [  32,   16,    8,    4,    2,    1],\n",
              "       [ 243,   81,   27,    9,    3,    1],\n",
              "       [1024,  256,   64,   16,    4,    1],\n",
              "       [3125,  625,  125,   25,    5,    1],\n",
              "       [7776, 1296,  216,   36,    6,    1]])"
            ]
          },
          "metadata": {
            "tags": []
          },
          "execution_count": 24
        }
      ]
    },
    {
      "cell_type": "code",
      "metadata": {
        "id": "dsT9VLOHXTQw"
      },
      "source": [
        "def moving_average(a,n):\n",
        "  sum=0\n",
        "  count=0\n",
        "  for i in range(len(a)-2):\n",
        "    sum=(a[i]+a[i+1]+a[i+2])/n\n",
        "    count=count+1\n",
        "    print(\"y\",i+1,\" \",int(sum),\"=\",\"(\",a[i],\"+\",a[i+1],\"+\",a[i+2],\")/\",n)\n",
        "  print(\"the moving average sequence has\",count ,\"values.\")\n"
      ],
      "execution_count": 11,
      "outputs": []
    },
    {
      "cell_type": "code",
      "metadata": {
        "colab": {
          "base_uri": "https://localhost:8080/"
        },
        "id": "r2KW_8ewYIyQ",
        "outputId": "54bb5fdd-089a-4fc5-a621-b14cb38655bb"
      },
      "source": [
        "moving_average([3, 5, 7, 2, 8, 10, 11, 65, 72, 81, 99, 100, 150],3)"
      ],
      "execution_count": 12,
      "outputs": [
        {
          "output_type": "stream",
          "text": [
            "y 1   5 = ( 3 + 5 + 7 )/ 3\n",
            "y 2   4 = ( 5 + 7 + 2 )/ 3\n",
            "y 3   5 = ( 7 + 2 + 8 )/ 3\n",
            "y 4   6 = ( 2 + 8 + 10 )/ 3\n",
            "y 5   9 = ( 8 + 10 + 11 )/ 3\n",
            "y 6   28 = ( 10 + 11 + 65 )/ 3\n",
            "y 7   49 = ( 11 + 65 + 72 )/ 3\n",
            "y 8   72 = ( 65 + 72 + 81 )/ 3\n",
            "y 9   84 = ( 72 + 81 + 99 )/ 3\n",
            "y 10   93 = ( 81 + 99 + 100 )/ 3\n",
            "y 11   116 = ( 99 + 100 + 150 )/ 3\n",
            "the moving average sequence has 11 values.\n"
          ],
          "name": "stdout"
        }
      ]
    },
    {
      "cell_type": "code",
      "metadata": {
        "id": "-rfv_b6eYkRr"
      },
      "source": [
        ""
      ],
      "execution_count": null,
      "outputs": []
    }
  ]
}